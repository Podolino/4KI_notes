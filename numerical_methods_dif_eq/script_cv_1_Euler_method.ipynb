{
 "cells": [
  {
   "attachments": {},
   "cell_type": "markdown",
   "metadata": {},
   "source": [
    "# Ex. 2 - Motion of point\n",
    "\n",
    "## Analytical solution\n",
    "\n",
    "We have calculated the analytical solution using second-order differential equations. We have obtained the results - two functions $v_x = f(t)$ and $x = f(t)$.\n",
    "\n",
    "$v_x = -\\frac{1}{4}\\cdot t^2 + 10\\cdot t$\n",
    "\n",
    "$x = -\\frac{1}{12}\\cdot t^3 + 5\\cdot t^2$"
   ]
  },
  {
   "cell_type": "code",
   "execution_count": 2,
   "metadata": {},
   "outputs": [],
   "source": [
    "import numpy as np\n",
    "\n",
    "num_points = 10000 # number of points in the defined time range [0, 20] s\n",
    "\n",
    "t_ana = np.linspace(0, 20, num_points)\n",
    "\n",
    "# calculation of the analytical solution\n",
    "v_ana = -1/4 * t_ana**2 + 10 * t_ana\n",
    "x_ana = -1/12 * t_ana**3 + 5 * t_ana**2"
   ]
  },
  {
   "attachments": {},
   "cell_type": "markdown",
   "metadata": {},
   "source": [
    "## Numerical solution - Explicit Euler method\n",
    "\n",
    "We have simply derived the approximate explicit Euler numerical solution from the analytical one. The method is based on the linear approximation of the function using the first-order Taylor polynomial:\n",
    "\n",
    "$y(x + h) \\approx y(x_0) + \\dot{y}(x_0) \\cdot h$"
   ]
  },
  {
   "cell_type": "code",
   "execution_count": 3,
   "metadata": {},
   "outputs": [
    {
     "name": "stdout",
     "output_type": "stream",
     "text": [
      "Step:0, Time:0.00 s, x=0.40 m, v=2.00 m/s\n",
      "Step:1, Time:0.20 s, x=1.20 m, v=3.98 m/s\n",
      "Step:2, Time:0.40 s, x=2.38 m, v=5.94 m/s\n",
      "Step:3, Time:0.60 s, x=3.96 m, v=7.88 m/s\n",
      "Step:4, Time:0.80 s, x=5.92 m, v=9.80 m/s\n",
      "Step:5, Time:1.00 s, x=8.26 m, v=11.70 m/s\n",
      "Step:6, Time:1.20 s, x=10.98 m, v=13.58 m/s\n",
      "Step:7, Time:1.40 s, x=14.06 m, v=15.44 m/s\n",
      "Step:8, Time:1.60 s, x=17.52 m, v=17.28 m/s\n",
      "Step:9, Time:1.80 s, x=21.34 m, v=19.10 m/s\n",
      "Step:10, Time:2.00 s, x=25.52 m, v=20.90 m/s\n",
      "Step:11, Time:2.20 s, x=30.06 m, v=22.68 m/s\n",
      "Step:12, Time:2.40 s, x=34.94 m, v=24.44 m/s\n",
      "Step:13, Time:2.60 s, x=40.18 m, v=26.18 m/s\n",
      "Step:14, Time:2.80 s, x=45.76 m, v=27.90 m/s\n",
      "Step:15, Time:3.00 s, x=51.68 m, v=29.60 m/s\n",
      "Step:16, Time:3.20 s, x=57.94 m, v=31.28 m/s\n",
      "Step:17, Time:3.40 s, x=64.52 m, v=32.94 m/s\n",
      "Step:18, Time:3.60 s, x=71.44 m, v=34.58 m/s\n",
      "Step:19, Time:3.80 s, x=78.68 m, v=36.20 m/s\n",
      "Step:20, Time:4.00 s, x=86.24 m, v=37.80 m/s\n",
      "Step:21, Time:4.20 s, x=94.12 m, v=39.38 m/s\n",
      "Step:22, Time:4.40 s, x=102.30 m, v=40.94 m/s\n",
      "Step:23, Time:4.60 s, x=110.80 m, v=42.48 m/s\n",
      "Step:24, Time:4.80 s, x=119.60 m, v=44.00 m/s\n",
      "Step:25, Time:5.00 s, x=128.70 m, v=45.50 m/s\n",
      "Step:26, Time:5.20 s, x=138.10 m, v=46.98 m/s\n",
      "Step:27, Time:5.40 s, x=147.78 m, v=48.44 m/s\n",
      "Step:28, Time:5.60 s, x=157.76 m, v=49.88 m/s\n",
      "Step:29, Time:5.80 s, x=168.02 m, v=51.30 m/s\n",
      "Step:30, Time:6.00 s, x=178.56 m, v=52.70 m/s\n",
      "Step:31, Time:6.20 s, x=189.38 m, v=54.08 m/s\n",
      "Step:32, Time:6.40 s, x=200.46 m, v=55.44 m/s\n",
      "Step:33, Time:6.60 s, x=211.82 m, v=56.78 m/s\n",
      "Step:34, Time:6.80 s, x=223.44 m, v=58.10 m/s\n",
      "Step:35, Time:7.00 s, x=235.32 m, v=59.40 m/s\n",
      "Step:36, Time:7.20 s, x=247.46 m, v=60.68 m/s\n",
      "Step:37, Time:7.40 s, x=259.84 m, v=61.94 m/s\n",
      "Step:38, Time:7.60 s, x=272.48 m, v=63.18 m/s\n",
      "Step:39, Time:7.80 s, x=285.36 m, v=64.40 m/s\n",
      "Step:40, Time:8.00 s, x=298.48 m, v=65.60 m/s\n",
      "Step:41, Time:8.20 s, x=311.84 m, v=66.78 m/s\n",
      "Step:42, Time:8.40 s, x=325.42 m, v=67.94 m/s\n",
      "Step:43, Time:8.60 s, x=339.24 m, v=69.08 m/s\n",
      "Step:44, Time:8.80 s, x=353.28 m, v=70.20 m/s\n",
      "Step:45, Time:9.00 s, x=367.54 m, v=71.30 m/s\n",
      "Step:46, Time:9.20 s, x=382.02 m, v=72.38 m/s\n",
      "Step:47, Time:9.40 s, x=396.70 m, v=73.44 m/s\n",
      "Step:48, Time:9.60 s, x=411.60 m, v=74.48 m/s\n",
      "Step:49, Time:9.80 s, x=426.70 m, v=75.50 m/s\n",
      "Step:50, Time:10.00 s, x=442.00 m, v=76.50 m/s\n",
      "Step:51, Time:10.20 s, x=457.50 m, v=77.48 m/s\n",
      "Step:52, Time:10.40 s, x=473.18 m, v=78.44 m/s\n",
      "Step:53, Time:10.60 s, x=489.06 m, v=79.38 m/s\n",
      "Step:54, Time:10.80 s, x=505.12 m, v=80.30 m/s\n",
      "Step:55, Time:11.00 s, x=521.36 m, v=81.20 m/s\n",
      "Step:56, Time:11.20 s, x=537.78 m, v=82.08 m/s\n",
      "Step:57, Time:11.40 s, x=554.36 m, v=82.94 m/s\n",
      "Step:58, Time:11.60 s, x=571.12 m, v=83.78 m/s\n",
      "Step:59, Time:11.80 s, x=588.04 m, v=84.60 m/s\n",
      "Step:60, Time:12.00 s, x=605.12 m, v=85.40 m/s\n",
      "Step:61, Time:12.20 s, x=622.36 m, v=86.18 m/s\n",
      "Step:62, Time:12.40 s, x=639.74 m, v=86.94 m/s\n",
      "Step:63, Time:12.60 s, x=657.28 m, v=87.68 m/s\n",
      "Step:64, Time:12.80 s, x=674.96 m, v=88.40 m/s\n",
      "Step:65, Time:13.00 s, x=692.78 m, v=89.10 m/s\n",
      "Step:66, Time:13.20 s, x=710.74 m, v=89.78 m/s\n",
      "Step:67, Time:13.40 s, x=728.82 m, v=90.44 m/s\n",
      "Step:68, Time:13.60 s, x=747.04 m, v=91.08 m/s\n",
      "Step:69, Time:13.80 s, x=765.38 m, v=91.70 m/s\n",
      "Step:70, Time:14.00 s, x=783.84 m, v=92.30 m/s\n",
      "Step:71, Time:14.20 s, x=802.42 m, v=92.88 m/s\n",
      "Step:72, Time:14.40 s, x=821.10 m, v=93.44 m/s\n",
      "Step:73, Time:14.60 s, x=839.90 m, v=93.98 m/s\n",
      "Step:74, Time:14.80 s, x=858.80 m, v=94.50 m/s\n",
      "Step:75, Time:15.00 s, x=877.80 m, v=95.00 m/s\n",
      "Step:76, Time:15.20 s, x=896.90 m, v=95.48 m/s\n",
      "Step:77, Time:15.40 s, x=916.08 m, v=95.94 m/s\n",
      "Step:78, Time:15.60 s, x=935.36 m, v=96.38 m/s\n",
      "Step:79, Time:15.80 s, x=954.72 m, v=96.80 m/s\n",
      "Step:80, Time:16.00 s, x=974.16 m, v=97.20 m/s\n",
      "Step:81, Time:16.20 s, x=993.68 m, v=97.58 m/s\n",
      "Step:82, Time:16.40 s, x=1013.26 m, v=97.94 m/s\n",
      "Step:83, Time:16.60 s, x=1032.92 m, v=98.28 m/s\n",
      "Step:84, Time:16.80 s, x=1052.64 m, v=98.60 m/s\n",
      "Step:85, Time:17.00 s, x=1072.42 m, v=98.90 m/s\n",
      "Step:86, Time:17.20 s, x=1092.26 m, v=99.18 m/s\n",
      "Step:87, Time:17.40 s, x=1112.14 m, v=99.44 m/s\n",
      "Step:88, Time:17.60 s, x=1132.08 m, v=99.68 m/s\n",
      "Step:89, Time:17.80 s, x=1152.06 m, v=99.90 m/s\n",
      "Step:90, Time:18.00 s, x=1172.08 m, v=100.10 m/s\n",
      "Step:91, Time:18.20 s, x=1192.14 m, v=100.28 m/s\n",
      "Step:92, Time:18.40 s, x=1212.22 m, v=100.44 m/s\n",
      "Step:93, Time:18.60 s, x=1232.34 m, v=100.58 m/s\n",
      "Step:94, Time:18.80 s, x=1252.48 m, v=100.70 m/s\n",
      "Step:95, Time:19.00 s, x=1272.64 m, v=100.80 m/s\n",
      "Step:96, Time:19.20 s, x=1292.82 m, v=100.88 m/s\n",
      "Step:97, Time:19.40 s, x=1313.00 m, v=100.94 m/s\n",
      "Step:98, Time:19.60 s, x=1333.20 m, v=100.98 m/s\n",
      "Step:99, Time:19.80 s, x=1353.40 m, v=101.00 m/s\n",
      "Step:100, Time:20.00 s, x=1373.60 m, v=101.00 m/s\n"
     ]
    }
   ],
   "source": [
    "steps = 100 # number of steps in the time range [0, 20] s using for the numerical solution\n",
    "# initial conditions\n",
    "t0 = 0 # [s]\n",
    "x0 = 0 # [m]\n",
    "v0 = 0 # [m/s]\n",
    "\n",
    "t_finish = 20 # [s]\n",
    "delta_t = t_finish/steps # [s], time step of numerical solution \n",
    "\n",
    "# initial assignment\n",
    "v_k_1 = v0\n",
    "x_k_1 = x0\n",
    "\n",
    "# logs\n",
    "x_num = []\n",
    "v_num = []\n",
    "t_num = []\n",
    "\n",
    "# do defined steps + 1\n",
    "for k in range(steps + 1):\n",
    "    t_k = t0 + k*delta_t\n",
    "    a_k = -1/2 * t_k + 10\n",
    "\n",
    "    # calculation of k-step using Taylor polynom (the first derivation of v and x)\n",
    "    v_k = v_k_1 + a_k * delta_t\n",
    "    x_k = x_k_1 + v_k * delta_t\n",
    "\n",
    "    # assignment for the next step\n",
    "    v_k_1 = v_k\n",
    "    x_k_1 = x_k\n",
    "\n",
    "    # logs\n",
    "    print(f\"Step:{k}, Time:{t_k:.2f} s, x={x_k_1:.2f} m, v={v_k_1:.2f} m/s\")\n",
    "\n",
    "    t_num.append(t_k)\n",
    "    v_num.append(v_k_1)\n",
    "    x_num.append(x_k_1)"
   ]
  },
  {
   "attachments": {},
   "cell_type": "markdown",
   "metadata": {},
   "source": [
    "## Plot results\n",
    "We can compare both obtained results. "
   ]
  },
  {
   "cell_type": "code",
   "execution_count": 4,
   "metadata": {},
   "outputs": [
    {
     "data": {
      "image/png": "[encoded data removed]",
      "text/plain": [
       "<Figure size 640x480 with 1 Axes>"
      ]
     },
     "metadata": {},
     "output_type": "display_data"
    },
    {
     "name": "stdout",
     "output_type": "stream",
     "text": [
      "Analytical result: x_ana(t = 20s) = 1333.33 m\n",
      "Numerical result: x_num(t = 20s) = 1373.60 m\n",
      "Error:  |x_num(t = 20s) - x_ana(t = 20s)| = |40.27| m\n"
     ]
    }
   ],
   "source": [
    "import matplotlib.pyplot as plt\n",
    "# plot x_ana and x_num as f(t)\n",
    "plt.plot(t_num, x_num, 'r')\n",
    "plt.plot(t_ana, x_ana, 'b')\n",
    "plt.legend(['Numerical (approximate)', 'Analytical (exact)'])\n",
    "plt.xlabel('t [s]')\n",
    "plt.ylabel('x [m]')\n",
    "plt.grid(True)\n",
    "plt.title('x = f(t)')\n",
    "plt.show()\n",
    "\n",
    "# plot the error of result\n",
    "print(f\"Analytical result: x_ana(t = 20s) = {x_ana[-1]:.2f} m\")\n",
    "print(f\"Numerical result: x_num(t = 20s) = {x_num[-1]:.2f} m\")\n",
    "print(f\"Error:  |x_num(t = 20s) - x_ana(t = 20s)| = |{abs(x_num[-1] - x_ana[-1]):.2f}| m\")"
   ]
  }
 ],
 "metadata": {
  "kernelspec": {
   "display_name": "Python 3",
   "language": "python",
   "name": "python3"
  },
  "language_info": {
   "codemirror_mode": {
    "name": "ipython",
    "version": 3
   },
   "file_extension": ".py",
   "mimetype": "text/x-python",
   "name": "python",
   "nbconvert_exporter": "python",
   "pygments_lexer": "ipython3",
   "version": "3.7.9"
  },
  "orig_nbformat": 4,
  "vscode": {
   "interpreter": {
    "hash": "85141a9bf890dcccda0ccc201c99302379fe02c4a2530a9a764ad70a901abfa7"
   }
  }
 },
 "nbformat": 4,
 "nbformat_minor": 2
}
